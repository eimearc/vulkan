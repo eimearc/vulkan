{
 "cells": [
  {
   "cell_type": "code",
   "execution_count": 4,
   "metadata": {},
   "outputs": [],
   "source": [
    "import pandas as pd\n",
    "import matplotlib.pyplot as plt"
   ]
  },
  {
   "cell_type": "code",
   "execution_count": 11,
   "metadata": {},
   "outputs": [
    {
     "name": "stdout",
     "output_type": "stream",
     "text": [
      "0       5.22938\n",
      "1       4.74575\n",
      "2       6.27433\n",
      "3       2.70659\n",
      "4       2.92716\n",
      "         ...   \n",
      "206    16.00370\n",
      "207    16.57510\n",
      "208    15.94070\n",
      "209    16.24000\n",
      "210    11.76340\n",
      "Name: frame, Length: 211, dtype: float64\n",
      "     cubes  threads     frame  updateVBO\n",
      "0       16        1   5.22938   1.075860\n",
      "1       16        1   4.74575   0.988659\n",
      "2       16        1   6.27433   3.031750\n",
      "3       16        1   2.70659   0.955119\n",
      "4       16        1   2.92716   1.079580\n",
      "..     ...      ...       ...        ...\n",
      "206     16        1  16.00370   1.574140\n",
      "207     16        1  16.57510   1.585640\n",
      "208     16        1  15.94070   1.424490\n",
      "209     16        1  16.24000   1.663130\n",
      "210     16        1  11.76340   0.985179\n",
      "\n",
      "[211 rows x 4 columns]\n"
     ]
    },
    {
     "data": {
      "image/png": "[encoded data removed]",
      "text/plain": [
       "<Figure size 432x288 with 1 Axes>"
      ]
     },
     "metadata": {
      "needs_background": "light"
     },
     "output_type": "display_data"
    }
   ],
   "source": [
    "df = pd.read_csv('vulkan/time_vulkan.csv')\n",
    "frames=df.frame\n",
    "print(frames)\n",
    "print(df)\n",
    "num_bins=100\n",
    "fig,ax=plt.subplots()\n",
    "n, bins, patches = ax.hist(frames, num_bins, density=1)"
   ]
  }
 ],
 "metadata": {
  "kernelspec": {
   "display_name": "Python 3",
   "language": "python",
   "name": "python3"
  },
  "language_info": {
   "codemirror_mode": {
    "name": "ipython",
    "version": 3
   },
   "file_extension": ".py",
   "mimetype": "text/x-python",
   "name": "python",
   "nbconvert_exporter": "python",
   "pygments_lexer": "ipython3",
   "version": "3.7.5"
  }
 },
 "nbformat": 4,
 "nbformat_minor": 4
}
