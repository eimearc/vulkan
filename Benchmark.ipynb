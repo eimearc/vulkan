{
 "cells": [
  {
   "cell_type": "code",
   "execution_count": 164,
   "metadata": {},
   "outputs": [],
   "source": [
    "import pandas as pd\n",
    "import matplotlib.pyplot as plt\n",
    "import numpy as np\n",
    "from scipy import stats"
   ]
  },
  {
   "cell_type": "code",
   "execution_count": 40,
   "metadata": {},
   "outputs": [
    {
     "name": "stdout",
     "output_type": "stream",
     "text": [
      "0      96.1405\n",
      "1      98.8555\n",
      "2      99.3728\n",
      "3      95.3462\n",
      "4      95.5475\n",
      "5     125.0470\n",
      "6      98.0163\n",
      "7      97.1787\n",
      "8      96.6503\n",
      "9      96.6034\n",
      "10     93.0503\n",
      "11     94.8262\n",
      "12    100.3190\n",
      "13    110.3700\n",
      "14     94.7977\n",
      "15     96.2404\n",
      "16    100.4010\n",
      "17     91.0259\n",
      "18     98.1343\n",
      "19     94.7187\n",
      "20     97.0731\n",
      "21     96.0952\n",
      "22     93.8243\n",
      "23     97.7347\n",
      "24     97.4405\n",
      "25     94.6808\n",
      "26     96.0667\n",
      "27     96.3952\n",
      "28     96.2771\n",
      "29     96.4383\n",
      "30     96.1543\n",
      "31     96.0252\n",
      "32     97.2237\n",
      "33     93.2419\n",
      "34     99.2780\n",
      "35     95.6547\n",
      "36     95.7782\n",
      "37     96.6139\n",
      "38     96.2282\n",
      "39     95.4735\n",
      "40     94.5745\n",
      "41     98.8848\n",
      "42     91.4742\n",
      "43     96.8511\n",
      "44     96.2185\n",
      "45     94.6801\n",
      "46     98.4452\n",
      "47     95.1840\n",
      "48     95.9031\n",
      "49     96.1842\n",
      "Name: frame, dtype: float64\n",
      "    cubes  threads     frame  updateVBO\n",
      "0   40000        1   96.1405    51.2211\n",
      "1   40000        1   98.8555    56.8637\n",
      "2   40000        1   99.3728    52.5174\n",
      "3   40000        1   95.3462    49.9451\n",
      "4   40000        1   95.5475    49.6017\n",
      "5   40000        1  125.0470    57.5225\n",
      "6   40000        1   98.0163    50.6281\n",
      "7   40000        1   97.1787    50.0071\n",
      "8   40000        1   96.6503    51.8907\n",
      "9   40000        1   96.6034    51.3037\n",
      "10  40000        1   93.0503    50.8294\n",
      "11  40000        1   94.8262    49.7168\n",
      "12  40000        1  100.3190    50.7751\n",
      "13  40000        1  110.3700    51.5724\n",
      "14  40000        1   94.7977    50.0625\n",
      "15  40000        1   96.2404    49.6142\n",
      "16  40000        1  100.4010    49.9385\n",
      "17  40000        1   91.0259    49.7484\n",
      "18  40000        1   98.1343    49.7010\n",
      "19  40000        1   94.7187    49.8199\n",
      "20  40000        1   97.0731    49.6572\n",
      "21  40000        1   96.0952    49.6476\n",
      "22  40000        1   93.8243    49.5156\n",
      "23  40000        1   97.7347    49.6700\n",
      "24  40000        1   97.4405    49.7666\n",
      "25  40000        1   94.6808    49.5344\n",
      "26  40000        1   96.0667    49.4153\n",
      "27  40000        1   96.3952    49.6563\n",
      "28  40000        1   96.2771    49.6855\n",
      "29  40000        1   96.4383    49.7981\n",
      "30  40000        1   96.1543    49.7132\n",
      "31  40000        1   96.0252    51.3862\n",
      "32  40000        1   97.2237    49.5587\n",
      "33  40000        1   93.2419    50.6352\n",
      "34  40000        1   99.2780    49.4868\n",
      "35  40000        1   95.6547    49.6440\n",
      "36  40000        1   95.7782    49.6659\n",
      "37  40000        1   96.6139    49.7106\n",
      "38  40000        1   96.2282    49.8453\n",
      "39  40000        1   95.4735    49.8951\n",
      "40  40000        1   94.5745    49.9239\n",
      "41  40000        1   98.8848    49.6440\n",
      "42  40000        1   91.4742    49.8210\n",
      "43  40000        1   96.8511    50.0474\n",
      "44  40000        1   96.2185    49.7959\n",
      "45  40000        1   94.6801    49.8287\n",
      "46  40000        1   98.4452    49.7529\n",
      "47  40000        1   95.1840    49.5285\n",
      "48  40000        1   95.9031    49.8420\n",
      "49  40000        1   96.1842    49.9211\n",
      "    cubes  threads     frame  updateVBO\n",
      "50  40000        2   91.4823    50.5347\n",
      "51  40000        2   94.6044    54.1081\n",
      "52  40000        2   90.2821    49.6176\n",
      "53  40000        2   98.2995    49.6170\n",
      "54  40000        2   94.9004    49.8065\n",
      "55  40000        2   95.5732    50.5757\n",
      "56  40000        2  111.2030    50.8765\n",
      "57  40000        2  142.6030    76.7026\n",
      "58  40000        2  130.5990    66.0043\n",
      "59  40000        2  144.1300   100.8220\n",
      "60  40000        2   93.4154    52.9455\n",
      "61  40000        2   89.5727    50.3347\n",
      "62  40000        2   90.0392    50.8612\n",
      "63  40000        2   95.6416    54.8870\n",
      "64  40000        2   89.3321    50.6393\n",
      "65  40000        2   89.4125    50.3318\n",
      "66  40000        2   88.7972    50.2419\n",
      "67  40000        2   92.9519    51.8057\n",
      "68  40000        2   88.6934    50.1556\n",
      "69  40000        2   87.8643    49.5922\n",
      "70  40000        2   87.9844    49.7024\n",
      "71  40000        2   89.7031    49.6119\n",
      "72  40000        2   89.2202    50.7993\n",
      "73  40000        2   87.9509    49.8958\n",
      "74  40000        2   90.7658    50.9020\n",
      "75  40000        2   88.8329    49.7136\n",
      "76  40000        2   88.6163    49.8515\n",
      "77  40000        2   88.2606    49.7773\n",
      "78  40000        2   88.7146    49.7247\n",
      "79  40000        2   91.4063    51.2395\n",
      "80  40000        2   90.3794    50.8718\n",
      "81  40000        2   92.8419    52.9374\n",
      "82  40000        2  103.2410    50.5892\n",
      "83  40000        2  105.5420    66.0154\n",
      "84  40000        2   94.6534    54.4745\n",
      "85  40000        2   92.3122    53.2855\n",
      "86  40000        2  111.8690    56.3780\n",
      "87  40000        2  178.8220    81.4233\n",
      "88  40000        2  176.9960    83.8234\n",
      "89  40000        2  151.5790   102.0190\n",
      "90  40000        2  105.3720    55.1851\n",
      "91  40000        2  110.9120    52.3569\n",
      "92  40000        2  107.8990    61.7387\n",
      "93  40000        2  106.6470    50.2740\n",
      "94  40000        2  111.8060    53.5075\n",
      "95  40000        2   93.5077    51.1324\n",
      "96  40000        2   96.4362    51.4022\n",
      "97  40000        2   92.0822    50.2070\n",
      "98  40000        2   98.3350    50.2876\n",
      "99  40000        2   95.0552    49.8749\n"
     ]
    },
    {
     "data": {
      "image/png": "[encoded data removed]",
      "text/plain": [
       "<Figure size 432x288 with 1 Axes>"
      ]
     },
     "metadata": {
      "needs_background": "light"
     },
     "output_type": "display_data"
    },
    {
     "data": {
      "text/plain": [
       "threads\n",
       "1    AxesSubplot(0.125,0.125;0.775x0.755)\n",
       "2    AxesSubplot(0.125,0.125;0.775x0.755)\n",
       "3    AxesSubplot(0.125,0.125;0.775x0.755)\n",
       "4    AxesSubplot(0.125,0.125;0.775x0.755)\n",
       "Name: frame, dtype: object"
      ]
     },
     "execution_count": 40,
     "metadata": {},
     "output_type": "execute_result"
    },
    {
     "data": {
      "image/png": "[encoded data removed]",
      "text/plain": [
       "<Figure size 432x288 with 1 Axes>"
      ]
     },
     "metadata": {
      "needs_background": "light"
     },
     "output_type": "display_data"
    }
   ],
   "source": [
    "df = pd.read_csv('vulkan/time_vulkan.csv')\n",
    "frames=df.frame[(df.threads==1) & (df.cubes>16)]\n",
    "print(frames)\n",
    "\n",
    "threads_1=df[df.threads==1]\n",
    "print(threads_1)\n",
    "\n",
    "threads_2=df[df.threads==2]\n",
    "print(threads_2)\n",
    "\n",
    "num_bins=100\n",
    "fig,ax=plt.subplots()\n",
    "n, bins, patches = ax.hist(frames, num_bins)\n",
    "ax.set_xlabel('time in ms')\n",
    "ax.set_ylabel('count')\n",
    "ax.set_title('Frame Render Time (ms)')\n",
    "\n",
    "plt.show()\n",
    "\n",
    "data = df\n",
    "data.groupby('threads').frame.hist(bins=80)"
   ]
  },
  {
   "cell_type": "code",
   "execution_count": 176,
   "metadata": {},
   "outputs": [
    {
     "name": "stdout",
     "output_type": "stream",
     "text": [
      "67.697 153.482\n",
      "         count        mean        std      min        25%       50%  \\\n",
      "threads                                                               \n",
      "1        930.0  106.416249  12.798815  89.6701  94.419575  105.8210   \n",
      "2        996.0   85.932554  10.552665  71.2320  79.077775   82.2036   \n",
      "3        995.0   85.811513  10.014063  72.2386  79.146350   82.4661   \n",
      "4        997.0   74.043465   8.360393  67.6970  70.320200   71.4770   \n",
      "\n",
      "                75%      max  \n",
      "threads                       \n",
      "1        111.849250  152.854  \n",
      "2         89.913475  153.482  \n",
      "3         89.178800  143.458  \n",
      "4         74.088500  150.797  \n",
      "         count       mean       std      min       25%       50%        75%  \\\n",
      "threads                                                                       \n",
      "1        930.0  58.127879  7.194795  50.4480  52.25340  56.58245  61.811725   \n",
      "2        996.0  35.953427  5.546791  27.3615  32.35505  33.82000  37.821275   \n",
      "3        995.0  33.978954  4.534462  27.3625  31.19620  32.67950  35.052550   \n",
      "4        997.0  28.458789  4.115331  25.6101  26.62800  27.28860  28.609000   \n",
      "\n",
      "              max  \n",
      "threads            \n",
      "1        104.2280  \n",
      "2         73.4657  \n",
      "3         62.5668  \n",
      "4         92.3393  \n"
     ]
    },
    {
     "data": {
      "image/png": "[encoded data removed]",
      "text/plain": [
       "<Figure size 1440x360 with 4 Axes>"
      ]
     },
     "metadata": {
      "needs_background": "light"
     },
     "output_type": "display_data"
    },
    {
     "data": {
      "image/png": "[encoded data removed]",
      "text/plain": [
       "<Figure size 1440x360 with 4 Axes>"
      ]
     },
     "metadata": {
      "needs_background": "light"
     },
     "output_type": "display_data"
    }
   ],
   "source": [
    "df = pd.read_csv('vulkan/time_vulkan_final.csv')\n",
    "\n",
    "z=np.abs(stats.zscore(df.frame))\n",
    "df.drop(df.index[np.where(z>3)[0]], inplace=True) # Make sure to have inplace=True\n",
    "\n",
    "print(df.frame.min(), df.frame.max())\n",
    "\n",
    "print(df.groupby('threads').frame.describe())\n",
    "print(df.groupby('threads').updateVBO.describe())\n",
    "\n",
    "x_label='time (ms)'\n",
    "y_label='count'\n",
    "\n",
    "fig,ax=plt.subplots(1,4,figsize=(20,5))\n",
    "fig.suptitle('Frame Render Time (ms) - {} Vertices'.format(df.vertices[0]))\n",
    "for i in range(1,5):\n",
    "    df[df.threads==i].hist('frame',bins=100,ax=ax[i-1],alpha=0.5,range=[df.frame.min(),df.frame.max()])\n",
    "    ax[i-1].set_xlabel(x_label)\n",
    "    ax[i-1].set_ylabel(y_label)\n",
    "    ax[i-1].set_title('{} threads'.format(i))\n",
    "plt.show()\n",
    "\n",
    "fig,ax=plt.subplots(1,4,figsize=(20,5))\n",
    "fig.suptitle('VBO Update Time (ms) - {} Vertices'.format(df.vertices[0]))\n",
    "for i in range(1,5):\n",
    "    df[df.threads==i].hist('updateVBO',bins=100,ax=ax[i-1],alpha=0.5,range=[df.updateVBO.min(),df.updateVBO.max()])\n",
    "    ax[i-1].set_xlabel(x_label)\n",
    "    ax[i-1].set_ylabel(y_label)\n",
    "    ax[i-1].set_title('{} threads'.format(i))\n",
    "plt.show()"
   ]
  },
  {
   "cell_type": "code",
   "execution_count": null,
   "metadata": {},
   "outputs": [],
   "source": []
  }
 ],
 "metadata": {
  "kernelspec": {
   "display_name": "Python 3",
   "language": "python",
   "name": "python3"
  },
  "language_info": {
   "codemirror_mode": {
    "name": "ipython",
    "version": 3
   },
   "file_extension": ".py",
   "mimetype": "text/x-python",
   "name": "python",
   "nbconvert_exporter": "python",
   "pygments_lexer": "ipython3",
   "version": "3.7.5"
  }
 },
 "nbformat": 4,
 "nbformat_minor": 4
}
